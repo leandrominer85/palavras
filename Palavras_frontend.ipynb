{
 "cells": [
  {
   "cell_type": "code",
   "execution_count": 1,
   "metadata": {},
   "outputs": [],
   "source": [
    "from tkinter import *\n",
    "import sqlite3\n",
    "import re"
   ]
  },
  {
   "cell_type": "code",
   "execution_count": 2,
   "metadata": {},
   "outputs": [],
   "source": [
    "#Criação do BD se ele não existir\n",
    "def banco():\n",
    "    conn= sqlite3.connect(\"Palavras.db\")\n",
    "\n",
    "    cur = conn.cursor()\n",
    "\n",
    "    cur.execute(\"CREATE TABLE IF NOT EXISTS palavras(palavras TEXT,UNIQUE(palavras));\")\n",
    "\n",
    "    conn.commit()\n",
    "    conn.close()\n",
    "banco()"
   ]
  },
  {
   "cell_type": "code",
   "execution_count": 3,
   "metadata": {},
   "outputs": [],
   "source": [
    "#Criar a tabela \"palavras\" e populá-la \n",
    "def tabela():\n",
    "    conn= sqlite3.connect(\"Palavras.db\")\n",
    "    cur = conn.cursor()\n",
    "\n",
    "    l = open(\"palavras.txt\", \"r\", encoding=\"utf-8\")\n",
    "\n",
    "    for i in l:\n",
    "        i = i.rstrip(\"\\n,\")\n",
    "        cur.execute(\"INSERT OR IGNORE INTO palavras VALUES (?) \", [i])\n",
    "\n",
    "    conn.commit()\n",
    "\n",
    "    conn.close()\n",
    "tabela()"
   ]
  },
  {
   "cell_type": "code",
   "execution_count": 4,
   "metadata": {},
   "outputs": [],
   "source": [
    "def lista(n):\n",
    "    global lista2\n",
    "    lista2 = []\n",
    "    \n",
    "    #importação da lista de palavras e captura do input do usuario\n",
    "    conn= sqlite3.connect(\"Palavras.db\")\n",
    "    cur = conn.cursor()\n",
    "    cur.execute(\"SELECT * FROM palavras\")  \n",
    "    rows = cur.fetchall()\n",
    "    conn.close()\n",
    "\n",
    "    #Captura do primeiro item de cada tupla na lista de tuplas \"rows\"\n",
    "    lista = [x[0] for x in rows ]\n",
    "\n",
    "    #caso a opção seja por um número infinito (n=0) então mantemos a lista, senão criamos outra lista\n",
    "    if n == 0:\n",
    "        lista2 = lista\n",
    "    else:\n",
    "        lista2 = [x for x in lista if len(x) < n+2] #n+2 pois a lista contém o separador /n"
   ]
  },
  {
   "cell_type": "code",
   "execution_count": 5,
   "metadata": {},
   "outputs": [],
   "source": [
    "def inteira():\n",
    "    list1.delete(0,END)\n",
    "    expressao = e1.get()\n",
    "    lista(int(e2.get()))\n",
    "    #procura na lista de palavras pela correspondência em qualquer parte da palavra\n",
    "    res = [x for x in lista2 if re.search(expressao, x)]\n",
    "    list1.insert(END,*res)"
   ]
  },
  {
   "cell_type": "code",
   "execution_count": 6,
   "metadata": {},
   "outputs": [],
   "source": [
    "def fim():\n",
    "    list1.delete(0,END)\n",
    "    expressao = e1.get()\n",
    "    lista(int(e2.get()))\n",
    "#procura na lista de palavras pela correspondência no fim da palavra\n",
    "    res = [x for x in lista2 if x.endswith(expressao)]\n",
    "    list1.insert(END,*res)"
   ]
  },
  {
   "cell_type": "code",
   "execution_count": 7,
   "metadata": {},
   "outputs": [],
   "source": [
    "def meio():\n",
    "    list1.delete(0,END)\n",
    "    expressao = e1.get()\n",
    "    lista(int(e2.get()))\n",
    " #procura na lista de palavras pela correspondência no meio da palavra\n",
    "    res = [x for x in lista2 if re.search(expressao, x)]\n",
    "\n",
    "    #criação de duas listas, uma para as palavars que começam e outra para a que terminam com o termo.\n",
    "    lista3 = open(\"palavras.txt\", \"r\", encoding=\"utf-8\")\n",
    "    inicio = [x for x in lista3 if x.startswith(expressao)]\n",
    "    lista3.close\n",
    "    lista4 = open(\"palavras.txt\", \"r\", encoding=\"utf-8\")\n",
    "    fim = [x for x in lista4 if x.endswith(expressao)]\n",
    "    lista4.close\n",
    "    #Combinação dessas listas e criação de uma lista com todas as palavras que contém o termo menos as da lista combinada\n",
    "    combinada = inicio+fim\n",
    "    meio = [x for x in res if x not in combinada ]\n",
    "    list1.insert(END,*meio)"
   ]
  },
  {
   "cell_type": "code",
   "execution_count": 8,
   "metadata": {},
   "outputs": [],
   "source": [
    "def inicio():\n",
    "    list1.delete(0,END)\n",
    "    expressao = e1.get()\n",
    "    lista(int(e2.get()))\n",
    "    \n",
    "#procura na lista de palavras pela correspondência no início da palavra\n",
    "    res = [x for x in lista2 if x.startswith(expressao)]\n",
    "    list1.insert(END,*res)"
   ]
  },
  {
   "cell_type": "code",
   "execution_count": 9,
   "metadata": {},
   "outputs": [
    {
     "data": {
      "text/plain": [
       "''"
      ]
     },
     "execution_count": 9,
     "metadata": {},
     "output_type": "execute_result"
    }
   ],
   "source": [
    "window = Tk()\n",
    "window.wm_title(\"Palavras\")"
   ]
  },
  {
   "cell_type": "code",
   "execution_count": 10,
   "metadata": {},
   "outputs": [],
   "source": [
    "l1 = Label(window, text=\"Expressão:\")\n",
    "l1.grid(row=0, column=0)\n",
    "l2 = Label(window, text=\"Tamanho máximo da palavra :\")\n",
    "l2.grid(row=1, column=0)"
   ]
  },
  {
   "cell_type": "code",
   "execution_count": 11,
   "metadata": {},
   "outputs": [],
   "source": [
    "var=StringVar()\n",
    "e1=Entry(window,textvariable=var)\n",
    "e1.grid(row=0,column=1)"
   ]
  },
  {
   "cell_type": "code",
   "execution_count": 12,
   "metadata": {},
   "outputs": [],
   "source": [
    "n=StringVar()\n",
    "e2=Entry(window,textvariable=n)\n",
    "e2.grid(row=1,column=1)"
   ]
  },
  {
   "cell_type": "code",
   "execution_count": 13,
   "metadata": {},
   "outputs": [],
   "source": [
    "l3 = Label(window, text=\"Lista de palavras:\")\n",
    "l3.grid(row=0, column=3)"
   ]
  },
  {
   "cell_type": "code",
   "execution_count": 14,
   "metadata": {},
   "outputs": [],
   "source": [
    "l3 = Label(window, text=\"  \")\n",
    "l3.grid(row=0, column=2)"
   ]
  },
  {
   "cell_type": "code",
   "execution_count": 15,
   "metadata": {},
   "outputs": [],
   "source": [
    "list1=Listbox(window, height=6,width=35)\n",
    "list1.grid(row=1,column=3,rowspan=6,columnspan=2)"
   ]
  },
  {
   "cell_type": "code",
   "execution_count": 16,
   "metadata": {},
   "outputs": [],
   "source": [
    "sb1=Scrollbar(window)\n",
    "sb1.grid(row=1,column=5,rowspan=6)\n",
    "\n",
    "list1.configure(yscrollcommand=sb1.set)\n",
    "sb1.configure(command=list1.yview)\n",
    "#list1.bind('<<ListboxSelect>>',get_selected_row)"
   ]
  },
  {
   "cell_type": "code",
   "execution_count": 17,
   "metadata": {},
   "outputs": [],
   "source": [
    "b1=Button(window,text=\"Pesquisa em palavra inteira\", width=24,command=inteira)\n",
    "b1.grid(row=2,column=0,columnspan =2)\n",
    "\n",
    "b2=Button(window,text=\"Pesquisa no início da palavra\", width=24,command=inicio)\n",
    "b2.grid(row=3,column=0,columnspan = 2 )\n",
    "\n",
    "b3=Button(window,text=\"Pesquisa no fim da palavra\", width=24,command=fim)\n",
    "b3.grid(row=4,column=0,columnspan = 2)\n",
    "\n",
    "b4=Button(window,text=\"Pesquisa no meio da palavra\", width=24,command=meio)\n",
    "b4.grid(row=5,column=0,columnspan = 2)\n",
    "\n",
    "b5=Button(window,text=\"Sair\", width=24,command=window.destroy)\n",
    "b5.grid(row=6,column=0,columnspan = 2)"
   ]
  },
  {
   "cell_type": "code",
   "execution_count": 18,
   "metadata": {},
   "outputs": [],
   "source": [
    "window.mainloop()"
   ]
  }
 ],
 "metadata": {
  "kernelspec": {
   "display_name": "Python 3",
   "language": "python",
   "name": "python3"
  },
  "language_info": {
   "codemirror_mode": {
    "name": "ipython",
    "version": 3
   },
   "file_extension": ".py",
   "mimetype": "text/x-python",
   "name": "python",
   "nbconvert_exporter": "python",
   "pygments_lexer": "ipython3",
   "version": "3.6.10"
  }
 },
 "nbformat": 4,
 "nbformat_minor": 4
}
