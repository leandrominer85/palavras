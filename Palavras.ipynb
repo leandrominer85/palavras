{
 "cells": [
  {
   "cell_type": "markdown",
   "metadata": {},
   "source": [
    "# Programa que busca uma lista de palavras em um arquivo de acordo com os parâmetros fornecidos pelo usuário."
   ]
  },
  {
   "cell_type": "code",
   "execution_count": null,
   "metadata": {},
   "outputs": [],
   "source": [
    "#Importação dos módulos\n",
    "import re"
   ]
  },
  {
   "cell_type": "code",
   "execution_count": null,
   "metadata": {},
   "outputs": [],
   "source": [
    "def main(opcao,n):\n",
    "    lista = open(\"palavras.txt\", \"r\", encoding=\"utf-8\")\n",
    "    lista2 = [x for x in lista if len(x) < n+2]\n",
    "    \n",
    "    \n",
    "    \n",
    "    if opcao == 1:\n",
    "        subs = input(\"Digite um termo: \")\n",
    "        res = [x for x in lista2 if re.search(subs, x)]\n",
    "        print (\"As palavras que contém o termo são: \\n\")\n",
    "        print(*res, sep = \"\\n\")\n",
    "             \n",
    "        \n",
    "    elif opcao == 2:\n",
    "        subs = input(\"Digite um termo: \")\n",
    "        res = [x for x in lista2 if x.startswith(subs)]\n",
    "        print (\"As palavras que contém o termo são: \\n\")\n",
    "        print(*res, sep = \"\\n\")\n",
    "        \n",
    "        \n",
    "    elif opcao == 3:\n",
    "        subs = input(\"Digite um termo: \")\n",
    "        res = [x for x in lista2 if x.endswith(subs + \"\\n\")]\n",
    "        print (\"As palavras que contém o termo são: \\n\")\n",
    "        print(*res, sep = \"\\n\")\n",
    "        \n",
    "        \n",
    "    elif opcao == 4:\n",
    "        subs = input(\"Digite um termo: \")\n",
    "        res = [x for x in lista2 if re.search(subs, x)]\n",
    "        \n",
    "        lista3 = open(\"palavras.txt\", \"r\", encoding=\"utf-8\")\n",
    "        inicio = [x for x in lista3 if x.startswith(subs)]\n",
    "        lista3.close\n",
    "        lista4 = open(\"palavras.txt\", \"r\", encoding=\"utf-8\")\n",
    "        fim = [x for x in lista4 if x.endswith(subs + \"\\n\")]\n",
    "        lista4.close\n",
    "        combinada = inicio+fim\n",
    "        meio = [x for x in res if x not in combinada ]\n",
    "        print (\"As palavras que contém o termo são: \\n\")\n",
    "        print(*meio, sep = \"\\n\")\n",
    "        \n",
    "    else:\n",
    "        print (\"Até Logo\")"
   ]
  },
  {
   "cell_type": "code",
   "execution_count": null,
   "metadata": {},
   "outputs": [],
   "source": [
    "def entrada():\n",
    "    global opcao,n\n",
    "    while True:\n",
    "        opcao = int(input(\"Digite a opção desejada:\\n\\\n",
    "        1 - Para pesquisa em palavra inteira\\n\\\n",
    "        2 - Para pesquisa no início da palavra\\n\\\n",
    "        3 - Para pesquisa no fim da palavra\\n\\\n",
    "        4 - Para pesquisa no meio da palavra\\n\\\n",
    "        0 - Para sair \\n\"))\n",
    "        if opcao != 0:\n",
    "            n = int(input(\"Digite o número de caracteres que deseja para a palavra (0 para infinito)\\n\"))\n",
    "        return (opcao , n) "
   ]
  },
  {
   "cell_type": "code",
   "execution_count": null,
   "metadata": {},
   "outputs": [],
   "source": [
    "entrada()\n",
    "main(opcao,n)"
   ]
  },
  {
   "cell_type": "code",
   "execution_count": null,
   "metadata": {},
   "outputs": [],
   "source": []
  }
 ],
 "metadata": {
  "kernelspec": {
   "display_name": "Python 3",
   "language": "python",
   "name": "python3"
  },
  "language_info": {
   "codemirror_mode": {
    "name": "ipython",
    "version": 3
   },
   "file_extension": ".py",
   "mimetype": "text/x-python",
   "name": "python",
   "nbconvert_exporter": "python",
   "pygments_lexer": "ipython3",
   "version": "3.6.10"
  }
 },
 "nbformat": 4,
 "nbformat_minor": 4
}
