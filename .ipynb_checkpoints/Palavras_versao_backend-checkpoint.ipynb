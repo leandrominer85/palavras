{
 "cells": [
  {
   "cell_type": "code",
   "execution_count": 1,
   "metadata": {},
   "outputs": [],
   "source": [
    "#Importação dos módulos\n",
    "import sqlite3\n",
    "import re"
   ]
  },
  {
   "cell_type": "code",
   "execution_count": 2,
   "metadata": {},
   "outputs": [],
   "source": [
    "#Criação do BD se ele não existir\n",
    "def banco():\n",
    "    conn= sqlite3.connect(\"Palavras.db\")\n",
    "\n",
    "    cur = conn.cursor()\n",
    "\n",
    "    cur.execute(\"CREATE TABLE IF NOT EXISTS palavras(palavras TEXT,UNIQUE(palavras));\")\n",
    "\n",
    "    conn.commit()\n",
    "    conn.close()\n",
    "banco()"
   ]
  },
  {
   "cell_type": "code",
   "execution_count": 3,
   "metadata": {},
   "outputs": [],
   "source": [
    "#Criar a tabela \"palavras\" e populá-la \n",
    "def tabela():\n",
    "    conn= sqlite3.connect(\"Palavras.db\")\n",
    "    cur = conn.cursor()\n",
    "\n",
    "    l = open(\"palavras.txt\", \"r\", encoding=\"utf-8\")\n",
    "\n",
    "    for i in l:\n",
    "        i = i.rstrip(\"\\n,\")\n",
    "        cur.execute(\"INSERT OR IGNORE INTO palavras VALUES (?) \", [i])\n",
    "\n",
    "    conn.commit()\n",
    "\n",
    "    conn.close()\n",
    "tabela()"
   ]
  },
  {
   "cell_type": "code",
   "execution_count": null,
   "metadata": {},
   "outputs": [],
   "source": [
    "def main(opcao):\n",
    "    if opcao == 0:\n",
    "        print (\"Até Logo\")\n",
    "    else:\n",
    "        n = int(input(\"Digite o número máximo de caracteres que deseja para a palavra (0 para infinito)\\n\"))\n",
    "\n",
    "        #importação da lista de palavras e captura do input do usuario\n",
    "        conn= sqlite3.connect(\"Palavras.db\")\n",
    "        cur = conn.cursor()\n",
    "        cur.execute(\"SELECT * FROM palavras\")  \n",
    "        rows = cur.fetchall()\n",
    "        conn.close()\n",
    "\n",
    "        #Captura do primeiro item de cada tupla na lista de tuplas \"rows\"\n",
    "        lista = [x[0] for x in rows ]\n",
    "        subs = input(\"Digite um termo: \")\n",
    "\n",
    "        #caso a opção seja por um número infinito (n=0) então mantemos a lista, senão criamos outra lista\n",
    "        if n == 0:\n",
    "            lista2 = lista\n",
    "        else:\n",
    "            lista2 = [x for x in lista if len(x) < n+2] #n+2 pois a lista contém o separador /n\n",
    "\n",
    "\n",
    "\n",
    "        if opcao == 1:\n",
    "            #procura na lista de palavras pela correspondência em qualquer parte da palavra\n",
    "            res = [x for x in lista2 if re.search(subs, x)]\n",
    "            print (\"As palavras que contém o termo são: \\n\")\n",
    "            print(*res, sep = \"\\n\")\n",
    "\n",
    "\n",
    "        elif opcao == 2:\n",
    "            #procura na lista de palavras pela correspondência no início da palavra\n",
    "            res = [x for x in lista2 if x.startswith(subs)]\n",
    "            print (\"As palavras que contém o termo são: \\n\")\n",
    "            print(*res, sep = \"\\n\")\n",
    "\n",
    "\n",
    "        elif opcao == 3:\n",
    "            #procura na lista de palavras pela correspondência no fim da palavra\n",
    "            res = [x for x in lista2 if x.endswith(subs + \"\\n\")]\n",
    "            print (\"As palavras que contém o termo são: \\n\")\n",
    "            print(*res, sep = \"\\n\")\n",
    "\n",
    "\n",
    "        elif opcao == 4:\n",
    "        #procura na lista de palavras pela correspondência no meio da palavra\n",
    "            res = [x for x in lista2 if re.search(subs, x)]\n",
    "\n",
    "            #criação de duas listas, uma para as palavars que começam e outra para a que terminam com o termo.\n",
    "            lista3 = open(\"palavras.txt\", \"r\", encoding=\"utf-8\")\n",
    "            inicio = [x for x in lista3 if x.startswith(subs)]\n",
    "            lista3.close\n",
    "            lista4 = open(\"palavras.txt\", \"r\", encoding=\"utf-8\")\n",
    "            fim = [x for x in lista4 if x.endswith(subs + \"\\n\")]\n",
    "            lista4.close\n",
    "            #Combinação dessas listas e criação de uma lista com todas as palavras que contém o termo menos as da lista combinada\n",
    "            combinada = inicio+fim\n",
    "            meio = [x for x in res if x not in combinada ]\n",
    "            print (\"As palavras que contém o termo são: \\n\")\n",
    "            print(*meio, sep = \"\\n\")\n",
    "\n",
    "        else:\n",
    "            print (\"Até Logo\")"
   ]
  },
  {
   "cell_type": "code",
   "execution_count": null,
   "metadata": {},
   "outputs": [],
   "source": [
    "def entrada():\n",
    "    global opcao\n",
    "    while True:\n",
    "        opcao = int(input(\"Digite a opção desejada:\\n\\\n",
    "        1 - Para pesquisa em palavra inteira\\n\\\n",
    "        2 - Para pesquisa no início da palavra\\n\\\n",
    "        3 - Para pesquisa no fim da palavra\\n\\\n",
    "        4 - Para pesquisa no meio da palavra\\n\\\n",
    "        0 - Para sair \\n\"))\n",
    "        return (opcao) "
   ]
  },
  {
   "cell_type": "code",
   "execution_count": null,
   "metadata": {},
   "outputs": [],
   "source": [
    "entrada()\n",
    "main(opcao)"
   ]
  },
  {
   "cell_type": "code",
   "execution_count": null,
   "metadata": {},
   "outputs": [],
   "source": []
  }
 ],
 "metadata": {
  "kernelspec": {
   "display_name": "Python 3",
   "language": "python",
   "name": "python3"
  },
  "language_info": {
   "codemirror_mode": {
    "name": "ipython",
    "version": 3
   },
   "file_extension": ".py",
   "mimetype": "text/x-python",
   "name": "python",
   "nbconvert_exporter": "python",
   "pygments_lexer": "ipython3",
   "version": "3.6.10"
  }
 },
 "nbformat": 4,
 "nbformat_minor": 4
}
